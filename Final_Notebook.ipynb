{
 "cells": [
  {
   "cell_type": "code",
   "execution_count": 1,
   "id": "3f59a61a",
   "metadata": {},
   "outputs": [],
   "source": [
    "import time\n",
    "import os         \n",
    "import sklearn\n",
    "import bs4\n",
    "from bs4 import BeautifulSoup  \n",
    "import requests\n",
    "import pandas as pd\n",
    "import scipy as sc\n",
    "import numpy as np\n",
    "import matplotlib as mpl\n",
    "import matplotlib.pyplot as plt\n",
    "import seaborn as sns\n",
    "import math\n",
    "import seaborn as sns\n",
    "from collections import Counter\n",
    "from sklearn.decomposition import PCA\n",
    "from sklearn import preprocessing, linear_model, model_selection\n",
    "from sklearn.preprocessing import StandardScaler, MinMaxScaler\n",
    "from sklearn.linear_model import LogisticRegression\n",
    "from sklearn.model_selection import train_test_split\n",
    "from sklearn import linear_model, metrics, preprocessing\n",
    "from sklearn.preprocessing import StandardScaler, MinMaxScaler\n",
    "from sklearn.linear_model import LogisticRegression, LinearRegression\n",
    "from sklearn.metrics import r2_score, f1_score\n",
    "%matplotlib inline\n"
   ]
  },
  {
   "cell_type": "code",
   "execution_count": null,
   "id": "24bbc0c2",
   "metadata": {},
   "outputs": [],
   "source": [
    "#main url ==> \"https://www.goodreads.com/list/show/1.Best_Books_Ever\"\n",
    "\n",
    "    #return an 100-lines array of books url links page \n",
    "def get_100_books_to_arr(url):\n",
    "    headers = {\"User-Agent\": \"Mozilla/5.0 (Windows NT 10.0; Win64; x64) AppleWebKit/537.36 (KHTML, like Gecko) Chrome/96.0.4664.110 Safari/537.36\"}\n",
    "    books_links=[]\n",
    "    r = requests.get(url, headers=headers)\n",
    "    data = r.text\n",
    "    books_soup = BeautifulSoup(data)\n",
    "    for book in books_soup.find_all(\"tr\"):\n",
    "        new_link=\"https://www.goodreads.com/\"+book.select('tr > td')[2].a[\"href\"]\n",
    "        books_links.append(new_link)\n",
    "    return books_links\n",
    "\n",
    "    # return page of books list url link\n",
    "def get_next_page_url(page_number):\n",
    "    main_url = \"https://www.goodreads.com/list/show/1.Best_Books_Ever?page=\"\n",
    "    new_page_url = main_url + str(page_number)\n",
    "    return new_page_url\n",
    "   \n",
    "def get_Dataframe_of_100_rows(url, books_links):\n",
    "    \n",
    "    book_url_page=[]\n",
    "    \n",
    "    #rows lists\n",
    "    rating_num = [] \n",
    "    Name = []\n",
    "    num_page = []     \n",
    "    Author = []\n",
    "    User_rating = []\n",
    "    Reviews = []      \n",
    "    Year = []\n",
    "    Language = []\n",
    "    Genre_1 = []\n",
    "    Genre_2 = []\n",
    "    Genre_3 = []\n",
    "    Publisher = []\n",
    "     \n",
    "    for book_page in books_links:\n",
    "        book_url_page.append(book_page)      \n",
    "        attemps = 0\n",
    "        while (attemps <5):\n",
    "            try:\n",
    "                headers = {\"User-Agent\": \"Mozilla/5.0 (Windows NT 10.0; Win64; x64) AppleWebKit/537.36 (KHTML, like Gecko) Chrome/96.0.4664.110 Safari/537.36 Edg/96.0.1054.62\"}\n",
    "                r = requests.get(book_page, headers=headers)\n",
    "                soup = BeautifulSoup(r.content, \"html.parser\")\n",
    "                try:\n",
    "                    Name.append(soup.find('h1',id=\"bookTitle\").get_text().strip())\n",
    "                except:\n",
    "                    Name.append(np.nan)\n",
    "                try:\n",
    "                    Author.append(soup.find('a',attrs = {\"class\":\"authorName\"}).get_text())\n",
    "                except:\n",
    "                    Author.append(np.nan)\n",
    "                try:\n",
    "                     num_page.append(soup.find('span',attrs = {\"itemprop\":\"numberOfPages\"}).get_text().split(\"pages\")[0].strip())\n",
    "                except:\n",
    "                    num_page.append(np.nan)\n",
    "                try:\n",
    "                    Language.append(soup.find('div',attrs = {\"class\":\"infoBoxRowItem\", \"itemprop\":\"inLanguage\"}).get_text())\n",
    "                except:\n",
    "                    Language.append(np.nan)\n",
    "                try:\n",
    "                    User_rating.append(soup.find('span',attrs = {\"itemprop\":\"ratingValue\"}).get_text().strip())\n",
    "                except:\n",
    "                    User_rating.append(np.nan)\n",
    "                try:\n",
    "                    rating_num.append(soup.find('div',attrs = {\"class\":\"reviewControls--left greyText\"}).get_text().split(\"ratings\")[0][-14:].strip().replace(',',''))\n",
    "                except:\n",
    "                    rating_num.append(np.nan)\n",
    "                try:\n",
    "                    Reviews.append(soup.find('div',attrs = {\"class\":\"reviewControls--left greyText\"}).get_text().split(\"reviews\")[0][-14:].strip().replace(',',''))\n",
    "                except:\n",
    "                    Reviews.append(np.nan)\n",
    "                try:\n",
    "                    Genre_1.append(soup.find_all('a',attrs = {\"class\":\"actionLinkLite bookPageGenreLink\"})[0].get_text())\n",
    "                except:\n",
    "                    Genre_1.append(np.nan)\n",
    "                try:\n",
    "                    Genre_2.append(soup.find_all('a',attrs = {\"class\":\"actionLinkLite bookPageGenreLink\"})[1].get_text())\n",
    "                except:\n",
    "                    Genre_2.append(np.nan)\n",
    "                try:\n",
    "                    Genre_3.append(soup.find_all('a',attrs = {\"class\":\"actionLinkLite bookPageGenreLink\"})[2].get_text())\n",
    "                except:\n",
    "                    Genre_3.append(np.nan)\n",
    "                try:\n",
    "                    Year.append(soup.find_all('div',{\"class\":\"row\"})[1].get_text().split(\"by\")[0].split(\"\\n\")[2].strip()[-4:])\n",
    "                except:\n",
    "                    Year.append(np.nan) \n",
    "                try:\n",
    "                    Publisher.append(soup.find_all('div',{\"class\":\"row\"})[1].get_text().split(\"by\")[1].split(\"\\n\")[0].strip())\n",
    "                except:\n",
    "                    Publisher.append(np.nan)\n",
    "                break #Get Out Of 'While' Loop\n",
    "            except:\n",
    "                attemps += 1\n",
    "                \n",
    "        if (attemps == 5):\n",
    "            Name.append(np.nan)\n",
    "            Author.append(book_page)\n",
    "            num_page.append(np.nan)\n",
    "            Language.append(np.nan)\n",
    "            User_rating.append(np.nan)\n",
    "            rating_num.append(np.nan)\n",
    "            Reviews.append(np.nan)  \n",
    "            Genre_1.append(np.nan)\n",
    "            Genre_2.append(np.nan)\n",
    "            Genre_3.append(np.nan) \n",
    "            Year.append(np.nan)\n",
    "            Publisher.append(np.nan)\n",
    "            \n",
    "    df = pd.DataFrame({'Name':Name,'Author':Author,'num_page':num_page,'Language':Language,'User_rating':User_rating,'rating_num':rating_num,'Reviews':Reviews, 'Genre_1':Genre_1,'Genre_2':Genre_2,'Genre_3':Genre_3,'Year':Year,'Publisher':Publisher,'book_url': book_url_page})\n",
    "    \n",
    "    return df\n",
    "\n",
    "def create_complete_DataFrame(num_of_pages):\n",
    "    column_names = [\"Name\", \"Author\", \"num_page\",\"Language\",\"User_rating\",\"rating_num\",\"Reviews\",\"Genre_1\",\"Genre_2\",\"Genre_3\",\"Year\",\"Publisher\",\"book_url\"]\n",
    "    df = pd.DataFrame(columns = column_names)    \n",
    "    main_url = \"https://www.goodreads.com/list/show/1.Best_Books_Ever\"\n",
    "    for index in range(num_of_pages):\n",
    "        Nth_page_url = get_next_page_url(index+1) #Nth means the '1st', '2nd', '3rd','4th','5th' ... page\n",
    "        books_links_per_page_list = get_100_books_to_arr(Nth_page_url)\n",
    "        new_df = get_Dataframe_of_100_rows(Nth_page_url,books_links_per_page_list)\n",
    "        df = pd.concat([df, new_df],ignore_index=True)\n",
    "    return df    \n",
    "        \n",
    "        \n"
   ]
  },
  {
   "cell_type": "markdown",
   "id": "b7f23548",
   "metadata": {},
   "source": [
    "                            Warning! \n",
    "Becarefull to use next cell ! it may take a very long time to finish proccessing"
   ]
  },
  {
   "cell_type": "code",
   "execution_count": null,
   "id": "439301ad",
   "metadata": {},
   "outputs": [],
   "source": [
    "#Becareful to use this function\n",
    "df=create_complete_DataFrame(1)"
   ]
  },
  {
   "cell_type": "markdown",
   "id": "d6706e92",
   "metadata": {},
   "source": [
    "Next Cell is to combine 2 or more dataframes with missing values to create one whole dataframe without missing values at all"
   ]
  },
  {
   "cell_type": "code",
   "execution_count": null,
   "id": "a3e8ba0f",
   "metadata": {},
   "outputs": [],
   "source": [
    "#index_list = list(range(100))\n",
    "df_dummy1 = pd.read_csv(\"Dummy_True1.csv\")\n",
    "df_dummy2 = pd.read_csv(\"Dummy_True2.csv\")\n",
    "df_dummy2 = pd.read_csv(\"Dummy_True_Daniel_1.csv\")\n",
    "df_complete = df_dummy1.combine_first(df_dummy2)\n",
    "df_complete = df_complete.combine_first(Dummy_True_Daniel_1.csv)\n",
    "# df_complete = df_complete.dropna(axis=0)\n",
    "# df_complete = df_complete.drop_duplicates()\n",
    "#df_complete.info() #\n",
    "#df_complete.to_csv(\"Drop_d.csv\") #Optional\n",
    "#pd.set_option('display.max_rows', None) #To print all rows\n",
    "#df_complete"
   ]
  },
  {
   "cell_type": "code",
   "execution_count": 4,
   "id": "6de7546d",
   "metadata": {},
   "outputs": [],
   "source": [
    "df3 = pd.read_csv(\"complete.csv\")"
   ]
  },
  {
   "cell_type": "markdown",
   "id": "f615a697",
   "metadata": {},
   "source": [
    "<font size=\"5\">Missing Urls</font>"
   ]
  },
  {
   "cell_type": "code",
   "execution_count": 144,
   "id": "5a5e3588",
   "metadata": {},
   "outputs": [
    {
     "data": {
      "text/plain": [
       "['https://www.goodreads.com//book/show/10799.A_Farewell_to_Arms',\n",
       " 'https://www.goodreads.com//book/show/3008.A_Little_Princess',\n",
       " 'https://www.goodreads.com//book/show/6088007-neuromancer',\n",
       " 'https://www.goodreads.com//book/show/3462.The_Rescue',\n",
       " 'https://www.goodreads.com//book/show/394469.Suttree',\n",
       " 'https://www.goodreads.com//book/show/7670.The_Andromeda_Strain',\n",
       " 'https://www.goodreads.com//book/show/275000.Fire_and_Ice',\n",
       " 'https://www.goodreads.com//book/show/146746.The_Jewel_in_the_Crown',\n",
       " 'https://www.goodreads.com//book/show/10128428-wonderstruck',\n",
       " 'https://www.goodreads.com//book/show/39863515-an-anonymous-girl',\n",
       " 'https://www.goodreads.com//book/show/20569957-interview-with-a-master',\n",
       " 'https://www.goodreads.com//book/show/144791.Seven_Deadly_Wonders',\n",
       " 'https://www.goodreads.com//book/show/19155234-the-cellar',\n",
       " 'https://www.goodreads.com//book/show/259655.The_Encyclopedia_of_the_Dead']"
      ]
     },
     "execution_count": 144,
     "metadata": {},
     "output_type": "execute_result"
    }
   ],
   "source": [
    "#####missing URL#########\n",
    "def get_miss_url(df3):\n",
    "    miss_url = []\n",
    "    for index,row in df3.iterrows():\n",
    "        if(pd.isnull(row['Name'])):\n",
    "             miss_url.append(df3.iloc[index][\"book_url\"])  \n",
    "    return miss_url"
   ]
  },
  {
   "cell_type": "code",
   "execution_count": null,
   "id": "bbdc4954",
   "metadata": {},
   "outputs": [],
   "source": [
    "def df_last_with_missing_url(miss_url):\n",
    "## Search on missing URL. iterate untill getting no missing values  13 TOTAL\n",
    "    book_url_page=[]\n",
    "\n",
    "    #rows lists\n",
    "    rating_num = [] \n",
    "    Name = []\n",
    "    num_page = []     \n",
    "    Author = []\n",
    "    User_rating = []\n",
    "    Reviews = []      \n",
    "    Year = []\n",
    "    Language = []\n",
    "    Genre_1 = []\n",
    "    Genre_2 = []\n",
    "    Genre_3 = []\n",
    "    Publisher = []\n",
    "\n",
    "    for book_page in miss_url:\n",
    "        book_url_page.append(book_page)      \n",
    "\n",
    "        headers = {\"User-Agent\": \"Mozilla/5.0 (Windows NT 10.0; Win64; x64) AppleWebKit/537.36 (KHTML, like Gecko) Chrome/96.0.4664.110 Safari/537.36 Edg/96.0.1054.62\"}\n",
    "        r = requests.get(book_page, headers=headers)\n",
    "        soup = BeautifulSoup(r.content, \"html.parser\")\n",
    "\n",
    "        try:\n",
    "            Name.append(soup.find('h1',id=\"bookTitle\").get_text().strip())\n",
    "        except:\n",
    "            Name.append(np.nan)\n",
    "        try:\n",
    "            Author.append(soup.find('a',attrs = {\"class\":\"authorName\"}).get_text())\n",
    "        except:\n",
    "            Author.append(np.nan)\n",
    "        try:\n",
    "             num_page.append(soup.find('span',attrs = {\"itemprop\":\"numberOfPages\"}).get_text().split(\"pages\")[0].strip())\n",
    "        except:\n",
    "            num_page.append(np.nan)\n",
    "        try:\n",
    "            Language.append(soup.find('div',attrs = {\"class\":\"infoBoxRowItem\", \"itemprop\":\"inLanguage\"}).get_text())\n",
    "        except:\n",
    "            Language.append(np.nan)\n",
    "        try:\n",
    "            User_rating.append(soup.find('span',attrs = {\"itemprop\":\"ratingValue\"}).get_text().strip())\n",
    "        except:\n",
    "            User_rating.append(np.nan)\n",
    "        try:\n",
    "            rating_num.append(soup.find('div',attrs = {\"class\":\"reviewControls--left greyText\"}).get_text().split(\"ratings\")[0][-12:].strip().replace(',',''))\n",
    "        except:\n",
    "            rating_num.append(np.nan)\n",
    "        try:\n",
    "            Reviews.append(soup.find('div',attrs = {\"class\":\"reviewControls--left greyText\"}).get_text().split(\"reviews\")[0][-12:].strip().replace(',',''))\n",
    "        except:\n",
    "            Reviews.append(np.nan)\n",
    "        try:\n",
    "            Genre_1.append(soup.find_all('a',attrs = {\"class\":\"actionLinkLite bookPageGenreLink\"})[0].get_text())\n",
    "        except:\n",
    "            Genre_1.append(np.nan)\n",
    "        try:\n",
    "            Genre_2.append(soup.find_all('a',attrs = {\"class\":\"actionLinkLite bookPageGenreLink\"})[1].get_text())\n",
    "        except:\n",
    "            Genre_2.append(np.nan)\n",
    "        try:\n",
    "            Genre_3.append(soup.find_all('a',attrs = {\"class\":\"actionLinkLite bookPageGenreLink\"})[2].get_text())\n",
    "        except:\n",
    "            Genre_3.append(np.nan)\n",
    "        try:\n",
    "            Year.append(soup.find_all('div',{\"class\":\"row\"})[1].get_text().split(\"by\")[0].split(\"\\n\")[2].strip()[-4:])\n",
    "        except:\n",
    "            Year.append(np.nan) \n",
    "        try:\n",
    "            Publisher.append(soup.find_all('div',{\"class\":\"row\"})[1].get_text().split(\"by\")[1].split(\"\\n\")[0].strip())\n",
    "        except:\n",
    "            Publisher.append(np.nan)\n",
    "    df_last = pd.DataFrame({'Name':Name,'Author':Author,'num_page':num_page,'Language':Language,'User_rating':User_rating,'rating_num':rating_num,'Reviews':Reviews, 'Genre_1':Genre_1,'Genre_2':Genre_2,'Genre_3':Genre_3,'Year':Year,'Publisher':Publisher,'book_url': book_url_page})  \n",
    "    return df_last"
   ]
  },
  {
   "cell_type": "code",
   "execution_count": null,
   "id": "84c1332b",
   "metadata": {},
   "outputs": [],
   "source": [
    "df_last = pd.DataFrame({'Name':Name,'Author':Author,'num_page':num_page,'Language':Language,'User_rating':User_rating,'rating_num':rating_num,'Reviews':Reviews, 'Genre_1':Genre_1,'Genre_2':Genre_2,'Genre_3':Genre_3,'Year':Year,'Publisher':Publisher,'book_url': book_url_page})"
   ]
  },
  {
   "cell_type": "code",
   "execution_count": 6,
   "id": "d08a52ad",
   "metadata": {},
   "outputs": [],
   "source": [
    "def combine_and_clean(df_last,df3):\n",
    "    frames = [df_last, df3]\n",
    "    result = pd.concat(frames)\n",
    "    result['Language'].fillna(result['Language'].mode()[0], inplace=True)\n",
    "    result['Publisher'].fillna(result['Publisher'].mode()[0], inplace=True)\n",
    "    result['Genre_1'].fillna(result['Genre_1'].mode()[0], inplace=True)\n",
    "    result['Genre_2'].fillna(result['Genre_1'].mode()[0], inplace=True)\n",
    "    result['Genre_3'].fillna(result['Genre_1'].mode()[0], inplace=True)\n",
    "    result['Reviews'].fillna(result['Reviews'].median(), inplace=True)\n",
    "    result['num_page'].fillna(result['num_page'].median(), inplace=True)\n",
    "    result['Year'].fillna(result['Year'].median(), inplace=True)\n",
    "    #delete nan rows\n",
    "    for index,row in result.iterrows():\n",
    "        if(pd.isnull(row['Name'])):\n",
    "            result.drop([index],axis = 0,inplace = True)\n",
    "    #deleteing unneeded columns\n",
    "    result.drop(labels = [\"Unnamed: 0\",\"Unnamed: 0.1\",\"book_url\"],axis = 1, inplace = True) \n",
    "    result.to_csv(\"End1.csv\")\n",
    "    return result\n",
    "    "
   ]
  },
  {
   "cell_type": "code",
   "execution_count": 7,
   "id": "7b6e48f6",
   "metadata": {},
   "outputs": [
    {
     "name": "stdout",
     "output_type": "stream",
     "text": [
      "<class 'pandas.core.frame.DataFrame'>\n",
      "Int64Index: 7014 entries, 0 to 6999\n",
      "Data columns (total 15 columns):\n",
      " #   Column        Non-Null Count  Dtype  \n",
      "---  ------        --------------  -----  \n",
      " 0   Unnamed: 0    7014 non-null   int64  \n",
      " 1   Name          7000 non-null   object \n",
      " 2   Author        7000 non-null   object \n",
      " 3   num_page      6985 non-null   float64\n",
      " 4   Language      6963 non-null   object \n",
      " 5   User_rating   7000 non-null   float64\n",
      " 6   rating_num    7000 non-null   float64\n",
      " 7   Reviews       6999 non-null   float64\n",
      " 8   Genre_1       6996 non-null   object \n",
      " 9   Genre_2       6991 non-null   object \n",
      " 10  Genre_3       6985 non-null   object \n",
      " 11  Year          6991 non-null   float64\n",
      " 12  Publisher     6958 non-null   object \n",
      " 13  book_url      7014 non-null   object \n",
      " 14  Unnamed: 0.1  7000 non-null   float64\n",
      "dtypes: float64(6), int64(1), object(8)\n",
      "memory usage: 876.8+ KB\n"
     ]
    }
   ],
   "source": [
    "## for deleting rows but maybe didnt use\n",
    "# for index,row in result.iterrows():\n",
    "#     if(pd.isnull(row['Name'])):\n",
    "#          result.drop(labels = [],axis = 1,inplace = True)\n",
    "result.info()"
   ]
  },
  {
   "cell_type": "code",
   "execution_count": 8,
   "id": "ca3d3a0d",
   "metadata": {},
   "outputs": [
    {
     "name": "stdout",
     "output_type": "stream",
     "text": [
      "<class 'pandas.core.frame.DataFrame'>\n",
      "Int64Index: 7014 entries, 0 to 6999\n",
      "Data columns (total 15 columns):\n",
      " #   Column        Non-Null Count  Dtype  \n",
      "---  ------        --------------  -----  \n",
      " 0   Unnamed: 0    7014 non-null   int64  \n",
      " 1   Name          7000 non-null   object \n",
      " 2   Author        7000 non-null   object \n",
      " 3   num_page      7014 non-null   float64\n",
      " 4   Language      7014 non-null   object \n",
      " 5   User_rating   7000 non-null   float64\n",
      " 6   rating_num    7000 non-null   float64\n",
      " 7   Reviews       7014 non-null   float64\n",
      " 8   Genre_1       7014 non-null   object \n",
      " 9   Genre_2       7014 non-null   object \n",
      " 10  Genre_3       7014 non-null   object \n",
      " 11  Year          7014 non-null   float64\n",
      " 12  Publisher     7014 non-null   object \n",
      " 13  book_url      7014 non-null   object \n",
      " 14  Unnamed: 0.1  7000 non-null   float64\n",
      "dtypes: float64(6), int64(1), object(8)\n",
      "memory usage: 876.8+ KB\n"
     ]
    }
   ],
   "source": [
    "#result had little cleaning and saved has maybe1\n",
    "#result2 = pd.read_csv(\"maybe1.csv\")\n",
    "result['Language'].fillna(result['Language'].mode()[0], inplace=True)\n",
    "result['Publisher'].fillna(result['Publisher'].mode()[0], inplace=True)\n",
    "result['Genre_1'].fillna(result['Genre_1'].mode()[0], inplace=True)\n",
    "result['Genre_2'].fillna(result['Genre_1'].mode()[0], inplace=True)\n",
    "result['Genre_3'].fillna(result['Genre_1'].mode()[0], inplace=True)\n",
    "result['Reviews'].fillna(result['Reviews'].median(), inplace=True)\n",
    "result['num_page'].fillna(result['num_page'].median(), inplace=True)\n",
    "result['Year'].fillna(result['Year'].median(), inplace=True)\n",
    "#fill all the missing cells\n",
    "result.info()\n"
   ]
  },
  {
   "cell_type": "code",
   "execution_count": 9,
   "id": "46b95f09",
   "metadata": {},
   "outputs": [],
   "source": [
    "#delete nan rows\n",
    "for index,row in result.iterrows():\n",
    "    if(pd.isnull(row['Name'])):\n",
    "        result.drop([index],axis = 0,inplace = True)\n",
    "#deleteing unneeded columns\n",
    "result.drop(labels = [\"Unnamed: 0\",\"Unnamed: 0.1\",\"book_url\"],axis = 1, inplace = True)        "
   ]
  },
  {
   "cell_type": "code",
   "execution_count": 3,
   "id": "219032c7",
   "metadata": {},
   "outputs": [
    {
     "name": "stdout",
     "output_type": "stream",
     "text": [
      "<class 'pandas.core.frame.DataFrame'>\n",
      "RangeIndex: 6999 entries, 0 to 6998\n",
      "Data columns (total 16 columns):\n",
      " #   Column       Non-Null Count  Dtype  \n",
      "---  ------       --------------  -----  \n",
      " 0   Unnamed: 0   6999 non-null   int64  \n",
      " 1   Name         6999 non-null   object \n",
      " 2   Author       6999 non-null   object \n",
      " 3   num_page     6999 non-null   int64  \n",
      " 4   Language     6999 non-null   object \n",
      " 5   User_rating  6999 non-null   float64\n",
      " 6   rating_num   6999 non-null   int64  \n",
      " 7   Reviews      6999 non-null   int64  \n",
      " 8   Genre_1      6999 non-null   object \n",
      " 9   G_1_id       6999 non-null   int64  \n",
      " 10  fiction      6999 non-null   int64  \n",
      " 11  non_fiction  6999 non-null   int64  \n",
      " 12  Genre_2      6999 non-null   object \n",
      " 13  Genre_3      6999 non-null   object \n",
      " 14  Year         6999 non-null   int64  \n",
      " 15  Publisher    6999 non-null   object \n",
      "dtypes: float64(1), int64(8), object(7)\n",
      "memory usage: 875.0+ KB\n"
     ]
    }
   ],
   "source": [
    "result.to_csv(\"End1.csv\")#NOW I GUESS ITS PERFECT#\n",
    "result.info()"
   ]
  },
  {
   "cell_type": "markdown",
   "id": "76ec3667",
   "metadata": {},
   "source": [
    "<font size=\"2\">We didn't implement this code, but yet we chose to keep the code to demonstrate how we prepared for Machine Learning.\n",
    "\n",
    "We Created with Excel Software a human-classfied genres to Binary options: Fiction or Non-Fiction list\n",
    "\n",
    "    Fiction Genre = '1'\n",
    "    Non-Ficion Genre = '-1'\n",
    "    Neutral  = '0'\n",
    "    \n",
    "for machine learning module we created mirror column to the binary 'fiction' column called 'non_fiction' </font>"
   ]
  },
  {
   "cell_type": "code",
   "execution_count": null,
   "id": "97eafd4d",
   "metadata": {},
   "outputs": [],
   "source": [
    "classified_genres_df = pd.read_csv(\"Genre_fiction_non_fiction.csv\")\n",
    "#classified_genres_df\n",
    "Fiction_genres_list = (classified_genres_df[classified_genres_df['classification']== 1])['Genre_name'].tolist()\n",
    "Neutral_genres_list = (classified_genres_df[classified_genres_df['classification']== 0])['Genre_name'].tolist()\n",
    "Non_Fiction_genres_list= (classified_genres_df[classified_genres_df['classification']== -1])['Genre_name'].tolist()\n",
    "fiction_arr = []\n",
    "non_fiction_arr=[]\n",
    "\n",
    "for index, row in df.iterrows():\n",
    "    fict =0\n",
    "    for genre in ['Genre_1','Genre_2','Genre_3']:\n",
    "        #print(\"gen: \",row[genre])\n",
    "        if row[genre] in Fiction_genres_list :\n",
    "            fict +=1\n",
    "        elif row[genre] in Non_Fiction_genres_list:\n",
    "            fict -=1        \n",
    "       \n",
    "            \n",
    "    if fict > 0: #fiction\n",
    "        fiction_arr.append(row['Name'])\n",
    "    elif fict < 0:\n",
    "        non_fiction_arr.append(row['Name'])        \n",
    "    else: #fict = 0 or neutral\n",
    "        if row['Genre_1'] in Fiction_genres_list:\n",
    "            fiction_arr.append(row['Name'])\n",
    "        else:\n",
    "            non_fiction_arr.append(row['Name'])        \n",
    "    \n",
    "df['fiction'] = 0\n",
    "df['non_fiction']=0\n",
    "fict_list = list()\n",
    "non_fict_list = list()\n",
    "for name in df['Name']:\n",
    "    fict_list.append(1) if name in fiction_arr else fict_list.append(0)\n",
    "    non_fict_list.append(0) if name in fiction_arr else non_fict_list.append(1)\n",
    "df['fiction']= fict_list\n",
    "df['non_fiction'] = non_fict_list\n"
   ]
  },
  {
   "cell_type": "markdown",
   "id": "1b94b39b",
   "metadata": {},
   "source": [
    "<font size=\"5\">Final DataFrame</font>\n"
   ]
  },
  {
   "cell_type": "code",
   "execution_count": 12,
   "id": "913aa727",
   "metadata": {},
   "outputs": [
    {
     "data": {
      "text/html": [
       "<div>\n",
       "<style scoped>\n",
       "    .dataframe tbody tr th:only-of-type {\n",
       "        vertical-align: middle;\n",
       "    }\n",
       "\n",
       "    .dataframe tbody tr th {\n",
       "        vertical-align: top;\n",
       "    }\n",
       "\n",
       "    .dataframe thead th {\n",
       "        text-align: right;\n",
       "    }\n",
       "</style>\n",
       "<table border=\"1\" class=\"dataframe\">\n",
       "  <thead>\n",
       "    <tr style=\"text-align: right;\">\n",
       "      <th></th>\n",
       "      <th>Name</th>\n",
       "      <th>Author</th>\n",
       "      <th>num_page</th>\n",
       "      <th>Language</th>\n",
       "      <th>User_rating</th>\n",
       "      <th>rating_num</th>\n",
       "      <th>Reviews</th>\n",
       "      <th>Genre_1</th>\n",
       "      <th>G_1_id</th>\n",
       "      <th>fiction</th>\n",
       "      <th>non_fiction</th>\n",
       "      <th>Genre_2</th>\n",
       "      <th>Genre_3</th>\n",
       "      <th>Year</th>\n",
       "      <th>Publisher</th>\n",
       "    </tr>\n",
       "  </thead>\n",
       "  <tbody>\n",
       "    <tr>\n",
       "      <th>0</th>\n",
       "      <td>A Farewell to Arms</td>\n",
       "      <td>Ernest Hemingway</td>\n",
       "      <td>293</td>\n",
       "      <td>English</td>\n",
       "      <td>3.81</td>\n",
       "      <td>283881</td>\n",
       "      <td>10879</td>\n",
       "      <td>Classics</td>\n",
       "      <td>4</td>\n",
       "      <td>1</td>\n",
       "      <td>0</td>\n",
       "      <td>Fiction</td>\n",
       "      <td>Historical</td>\n",
       "      <td>2004</td>\n",
       "      <td>Arrow Books</td>\n",
       "    </tr>\n",
       "    <tr>\n",
       "      <th>1</th>\n",
       "      <td>A Little Princess</td>\n",
       "      <td>Frances Hodgson Burnett</td>\n",
       "      <td>242</td>\n",
       "      <td>English</td>\n",
       "      <td>4.20</td>\n",
       "      <td>287556</td>\n",
       "      <td>8086</td>\n",
       "      <td>Classics</td>\n",
       "      <td>4</td>\n",
       "      <td>1</td>\n",
       "      <td>0</td>\n",
       "      <td>Fiction</td>\n",
       "      <td>Childrens</td>\n",
       "      <td>2002</td>\n",
       "      <td>Penguin Books</td>\n",
       "    </tr>\n",
       "    <tr>\n",
       "      <th>2</th>\n",
       "      <td>Neuromancer</td>\n",
       "      <td>William Gibson</td>\n",
       "      <td>292</td>\n",
       "      <td>English</td>\n",
       "      <td>3.90</td>\n",
       "      <td>285887</td>\n",
       "      <td>10999</td>\n",
       "      <td>Science Fiction</td>\n",
       "      <td>7</td>\n",
       "      <td>1</td>\n",
       "      <td>0</td>\n",
       "      <td>Fiction</td>\n",
       "      <td>Science Fiction</td>\n",
       "      <td>2000</td>\n",
       "      <td>Ace</td>\n",
       "    </tr>\n",
       "    <tr>\n",
       "      <th>3</th>\n",
       "      <td>The Rescue</td>\n",
       "      <td>Nicholas Sparks</td>\n",
       "      <td>352</td>\n",
       "      <td>English</td>\n",
       "      <td>4.11</td>\n",
       "      <td>175314</td>\n",
       "      <td>4124</td>\n",
       "      <td>Romance</td>\n",
       "      <td>3</td>\n",
       "      <td>1</td>\n",
       "      <td>0</td>\n",
       "      <td>Fiction</td>\n",
       "      <td>Womens Fiction</td>\n",
       "      <td>2005</td>\n",
       "      <td>Grand Central Publishing</td>\n",
       "    </tr>\n",
       "    <tr>\n",
       "      <th>4</th>\n",
       "      <td>Suttree</td>\n",
       "      <td>Cormac McCarthy</td>\n",
       "      <td>471</td>\n",
       "      <td>English</td>\n",
       "      <td>4.18</td>\n",
       "      <td>19123</td>\n",
       "      <td>1578</td>\n",
       "      <td>Fiction</td>\n",
       "      <td>1</td>\n",
       "      <td>1</td>\n",
       "      <td>0</td>\n",
       "      <td>Gothic</td>\n",
       "      <td>Southern Gothic</td>\n",
       "      <td>1992</td>\n",
       "      <td>Vintage International</td>\n",
       "    </tr>\n",
       "  </tbody>\n",
       "</table>\n",
       "</div>"
      ],
      "text/plain": [
       "                 Name                   Author  num_page Language  \\\n",
       "0  A Farewell to Arms         Ernest Hemingway       293  English   \n",
       "1   A Little Princess  Frances Hodgson Burnett       242  English   \n",
       "2         Neuromancer           William Gibson       292  English   \n",
       "3          The Rescue          Nicholas Sparks       352  English   \n",
       "4             Suttree          Cormac McCarthy       471  English   \n",
       "\n",
       "   User_rating  rating_num  Reviews          Genre_1  G_1_id  fiction  \\\n",
       "0         3.81      283881    10879         Classics       4        1   \n",
       "1         4.20      287556     8086         Classics       4        1   \n",
       "2         3.90      285887    10999  Science Fiction       7        1   \n",
       "3         4.11      175314     4124          Romance       3        1   \n",
       "4         4.18       19123     1578          Fiction       1        1   \n",
       "\n",
       "   non_fiction  Genre_2          Genre_3  Year                 Publisher  \n",
       "0            0  Fiction       Historical  2004               Arrow Books  \n",
       "1            0  Fiction        Childrens  2002             Penguin Books  \n",
       "2            0  Fiction  Science Fiction  2000                       Ace  \n",
       "3            0  Fiction   Womens Fiction  2005  Grand Central Publishing  \n",
       "4            0   Gothic  Southern Gothic  1992     Vintage International  "
      ]
     },
     "execution_count": 12,
     "metadata": {},
     "output_type": "execute_result"
    }
   ],
   "source": [
    "df.head()"
   ]
  },
  {
   "cell_type": "code",
   "execution_count": 13,
   "id": "f1b0ca6a",
   "metadata": {},
   "outputs": [
    {
     "data": {
      "text/plain": [
       "<AxesSubplot:xlabel='Genres', ylabel='rating'>"
      ]
     },
     "execution_count": 13,
     "metadata": {},
     "output_type": "execute_result"
    },
    {
     "data": {
      "image/png": "[encoded data removed]",
      "text/plain": [
       "<Figure size 1080x252 with 1 Axes>"
      ]
     },
     "metadata": {
      "needs_background": "light"
     },
     "output_type": "display_data"
    }
   ],
   "source": [
    "#diagramof rating avarage per genre of years :2003,2005,2019 (combined)\n",
    "years = [2000,2001,2002,2003]\n",
    "#create list of all genres exist in array 'years' \n",
    "df_top_year = df[df[\"Year\"].isin(years)]\n",
    "#col_one_list = df['Genre_1'].tolist()\n",
    "#col_one_arr = df['Genre_1'].to_numpy()\n",
    "unique_arr = df[\"Genre_1\"].unique()\n",
    "mean_genres_arr = []\n",
    "#print(\"type:\", type(df_top_year.groupby(df_top_year[\"Genre_1\"].loc[df_top_year.Genre_1 == \"Classics\"]).User_rating.mean()))\n",
    "\n",
    "for genre in unique_arr :\n",
    "    mean_genres_arr.append(df_top_year.groupby(df_top_year[\"Genre_1\"].loc[df_top_year.Genre_1 == genre]).User_rating.mean())\n",
    "    #df_top_year.groupby(genre, as_index=False)['User_rating'].mean()\n",
    "#print(mean_genres_arr)\n",
    "xy = pd.DataFrame(mean_genres_arr)\n",
    "xy\n",
    "for genre in  unique_arr:\n",
    "    try:\n",
    "        xy[genre] = xy[genre].mean()\n",
    "    except:\n",
    "        continue\n",
    "        \n",
    "xy.drop_duplicates(inplace=True)\n",
    "xy = xy.swapaxes(\"index\", \"columns\")\n",
    "xy_10 = xy.iloc[0:10]\n",
    "xy.plot(kind = 'bar',xlabel =\"Genres\",ylabel=\"rating\",figsize=(15,3.5))"
   ]
  },
  {
   "cell_type": "markdown",
   "id": "95a3f4bd",
   "metadata": {},
   "source": [
    "Grouped Bars Plot Creation #\n"
   ]
  },
  {
   "cell_type": "code",
   "execution_count": 2,
   "id": "3b5d66f4",
   "metadata": {},
   "outputs": [
    {
     "data": {
      "image/png": "[encoded data removed]",
      "text/plain": [
       "<Figure size 1296x360 with 1 Axes>"
      ]
     },
     "metadata": {
      "needs_background": "light"
     },
     "output_type": "display_data"
    }
   ],
   "source": [
    "#Create Data to Group Bar Plot\n",
    "df = pd.read_csv(\"df_1.csv\")\n",
    "num_top_elements = 10\n",
    "Genre1_top_10 = df['Genre_1'].value_counts()[0:num_top_elements].sort_index()\n",
    "top_10_names = Genre1_top_10.index\n",
    "Genre2_top_10_of_G1=df['Genre_2'].value_counts()[top_10_names].sort_index()\n",
    "Genre3_top_10_of_G1= df['Genre_3'].value_counts()[top_10_names].sort_index()\n",
    "\n",
    "f, ax = plt.subplots(figsize=(18,5))\n",
    "x = np.arange(10)\n",
    "y1= Genre1_top_10.values\n",
    "y2= Genre2_top_10_of_G1.values\n",
    "y3=Genre3_top_10_of_G1.values\n",
    "width = 0.20\n",
    "plt.bar(x, y1, width,tick_label = top_10_names,align='center',label='Genre1')\n",
    "plt.bar(x+0.2, y2, width,label='Genre2')\n",
    "plt.bar(x+0.4, y3, width,align='center',label='Genre3')\n",
    "plt.ylabel(\"Amount of books\")\n",
    "plt.xlabel(\"top 10 Genres\")\n",
    "plt.title(\"Data segmentation top Genres books\")\n",
    "ax.legend(fontsize = 14)\n",
    "plt.show()\n"
   ]
  },
  {
   "cell_type": "markdown",
   "id": "f7ea4982",
   "metadata": {},
   "source": [
    "Pie Plot Top 3 Authors #"
   ]
  },
  {
   "cell_type": "code",
   "execution_count": 3,
   "id": "edd0a439",
   "metadata": {},
   "outputs": [
    {
     "data": {
      "text/plain": [
       "Stephen King       60\n",
       "Terry Pratchett    39\n",
       "Rick Riordan       32\n",
       "Name: Author, dtype: int64"
      ]
     },
     "execution_count": 3,
     "metadata": {},
     "output_type": "execute_result"
    }
   ],
   "source": [
    "#Create 3 df of all genres of the top 3 Authors\n",
    "top_3_authors = df[\"Author\"].value_counts()[0:3].sort_index().index.to_list()\n",
    "df_of_top_three_Authors = df[df['Author'].isin(top_3_authors)]\n",
    "df_of_top_three_Authors = df_of_top_three_Authors.sort_values(by = \"Author\").reset_index()\n",
    "# pd.set_option('display.max_rows', None)\n",
    "df_of_top_three_Authors.reset_index(inplace =True)\n",
    "df_of_top_three_Authors['Author'].value_counts()\n",
    "#df_of_top_three_Authors"
   ]
  },
  {
   "cell_type": "code",
   "execution_count": 5,
   "id": "3d2e58bd",
   "metadata": {},
   "outputs": [
    {
     "data": {
      "image/png": "[encoded data removed]",
      "text/plain": [
       "<Figure size 504x504 with 1 Axes>"
      ]
     },
     "metadata": {},
     "output_type": "display_data"
    }
   ],
   "source": [
    "df1 = df_of_top_three_Authors.iloc[:36,:]\n",
    "df2 = df_of_top_three_Authors.iloc[36:96,:]\n",
    "df3 = df_of_top_three_Authors.iloc[96:,:]\n",
    "df1_G = df1['Genre_1'].value_counts()[0:].sort_index()\n",
    "df2_G = df2['Genre_1'].value_counts()[0:].sort_index()\n",
    "df3_G = df3['Genre_1'].value_counts()[0:].sort_index()\n",
    "\n",
    "\n",
    "#df = pd.DataFrame({'mass': [0.330, 4.87 , 5.97],\n",
    "#                     'radius': [2439.7, 6051.8, 6378.1]},\n",
    "#                    index=['Mercury', 'Venus', 'Earth'])\n",
    "\n",
    "fig, axs = plt.subplots(1)\n",
    "\n",
    "fig.suptitle(\"Stephen King\", fontsize=20)\n",
    "plot =df1_G.plot.pie(y=df1_G, figsize=(7, 7),ylabel ='',fontsize = 20)\n",
    "\n",
    "#fig.suptitle(\"Terry Pratchett\", fontsize=20)\n",
    "#plot =df2_G.plot.pie(y=df2_G, figsize=(7, 7),ylabel ='',fontsize = 20)\n",
    "\n",
    "#fig.suptitle(\"Rick Riordan\", fontsize=20)\n",
    "#plot =df3_G.plot.pie(y=df3_G, figsize=(7, 7),ylabel ='',fontsize = 20)\n",
    "\n"
   ]
  },
  {
   "cell_type": "markdown",
   "id": "3bc455bd",
   "metadata": {},
   "source": [
    "density of user rating"
   ]
  },
  {
   "cell_type": "code",
   "execution_count": 4,
   "id": "e07438e1",
   "metadata": {},
   "outputs": [
    {
     "name": "stderr",
     "output_type": "stream",
     "text": [
      "C:\\Users\\liors\\anaconda3\\lib\\site-packages\\seaborn\\distributions.py:2557: FutureWarning: `distplot` is a deprecated function and will be removed in a future version. Please adapt your code to use either `displot` (a figure-level function with similar flexibility) or `histplot` (an axes-level function for histograms).\n",
      "  warnings.warn(msg, FutureWarning)\n"
     ]
    },
    {
     "data": {
      "text/plain": [
       "Text(0, 0.5, 'תופיפצ')"
      ]
     },
     "execution_count": 4,
     "metadata": {},
     "output_type": "execute_result"
    },
    {
     "data": {
      "image/png": "[encoded data removed]",
      "text/plain": [
       "<Figure size 1008x576 with 1 Axes>"
      ]
     },
     "metadata": {
      "needs_background": "light"
     },
     "output_type": "display_data"
    }
   ],
   "source": [
    "dist = df\n",
    "dist.User_rating = dist.User_rating.astype(float)\n",
    "fig, ax = plt.subplots(figsize=[14,8])\n",
    "sns.distplot(dist['User_rating'],ax=ax,color='mediumspringgreen')\n",
    "ax.set_title('םירפסה לש םיגרדמה ןויצ תצופת',fontsize=20)\n",
    "ax.set_xlabel('םיגרדמה ןויצ',fontsize=13)\n",
    "ax.set_ylabel('תופיפצ',fontsize=13)\n"
   ]
  },
  {
   "cell_type": "code",
   "execution_count": 5,
   "id": "a4fd6e99",
   "metadata": {},
   "outputs": [],
   "source": [
    "dist = df[~(df['num_page']>1000)]"
   ]
  },
  {
   "cell_type": "code",
   "execution_count": 6,
   "id": "55432666",
   "metadata": {},
   "outputs": [
    {
     "name": "stderr",
     "output_type": "stream",
     "text": [
      "C:\\Users\\liors\\anaconda3\\lib\\site-packages\\pandas\\core\\generic.py:5494: SettingWithCopyWarning: \n",
      "A value is trying to be set on a copy of a slice from a DataFrame.\n",
      "Try using .loc[row_indexer,col_indexer] = value instead\n",
      "\n",
      "See the caveats in the documentation: https://pandas.pydata.org/pandas-docs/stable/user_guide/indexing.html#returning-a-view-versus-a-copy\n",
      "  self[name] = value\n",
      "C:\\Users\\liors\\anaconda3\\lib\\site-packages\\seaborn\\distributions.py:2557: FutureWarning: `distplot` is a deprecated function and will be removed in a future version. Please adapt your code to use either `displot` (a figure-level function with similar flexibility) or `histplot` (an axes-level function for histograms).\n",
      "  warnings.warn(msg, FutureWarning)\n"
     ]
    },
    {
     "data": {
      "text/plain": [
       "Text(0, 0.5, 'תופיפצ')"
      ]
     },
     "execution_count": 6,
     "metadata": {},
     "output_type": "execute_result"
    },
    {
     "data": {
      "image/png": "[encoded data removed]",
      "text/plain": [
       "<Figure size 720x360 with 1 Axes>"
      ]
     },
     "metadata": {
      "needs_background": "light"
     },
     "output_type": "display_data"
    }
   ],
   "source": [
    "dist.num_page = dist.num_page.astype(float)\n",
    "fig, ax = plt.subplots(figsize=[10,5])\n",
    "sns.distplot(dist['num_page'],ax=ax,color = 'blue' )\n",
    "ax.set_title('םידומעה תומכ לש עצוממה תמוקע',fontsize=10)\n",
    "#םידומעה תומכ לש עצוממה תמוקע\n",
    "#ממוצע עמודים\n",
    "#םידומע עצוממ\n",
    "#עקומת הממוצע של כמות העמודים\n",
    "ax.set_xlabel('םידומע עצוממ ',fontsize=13)\n",
    "ax.set_ylabel('תופיפצ',fontsize=13)"
   ]
  },
  {
   "cell_type": "code",
   "execution_count": 8,
   "id": "e82adcec",
   "metadata": {},
   "outputs": [
    {
     "data": {
      "text/plain": [
       "<Figure size 1080x720 with 0 Axes>"
      ]
     },
     "metadata": {},
     "output_type": "display_data"
    },
    {
     "data": {
      "image/png": "[encoded data removed]",
      "text/plain": [
       "<Figure size 432x432 with 3 Axes>"
      ]
     },
     "metadata": {
      "needs_background": "light"
     },
     "output_type": "display_data"
    }
   ],
   "source": [
    "plt.figure(figsize=(15,10))\n",
    "sns.set_context('paper')\n",
    "ax =sns.jointplot(x=\"User_rating\",y='rating_num', kind='scatter',  data= df, color = 'blue',ylim = (0,2000000))\n",
    "ax.set_axis_labels(\"םיגרדמה ןויצ\", \"םיגורידה תומכ\")\n",
    "plt.show()"
   ]
  },
  {
   "cell_type": "code",
   "execution_count": 9,
   "id": "3329c60a",
   "metadata": {},
   "outputs": [
    {
     "data": {
      "text/plain": [
       "<Figure size 1080x720 with 0 Axes>"
      ]
     },
     "metadata": {},
     "output_type": "display_data"
    },
    {
     "data": {
      "image/png": "[encoded data removed]",
      "text/plain": [
       "<Figure size 432x432 with 3 Axes>"
      ]
     },
     "metadata": {
      "needs_background": "light"
     },
     "output_type": "display_data"
    }
   ],
   "source": [
    "plt.figure(figsize=(15,10))\n",
    "sns.set_context('paper')\n",
    "ax =sns.jointplot(x=\"User_rating\",y='Reviews', kind='scatter',  data= df, color = 'red',ylim = (0,100000))\n",
    "ax.set_axis_labels(\"תורוקיבה תומכ\", \"תורוקיבה תומכ\")\n",
    "plt.show()"
   ]
  },
  {
   "cell_type": "code",
   "execution_count": 11,
   "id": "3b80d4a6",
   "metadata": {},
   "outputs": [
    {
     "data": {
      "text/plain": [
       "<seaborn.axisgrid.JointGrid at 0x1ab21a560d0>"
      ]
     },
     "execution_count": 11,
     "metadata": {},
     "output_type": "execute_result"
    },
    {
     "data": {
      "image/png": "[encoded data removed]",
      "text/plain": [
       "<Figure size 432x432 with 3 Axes>"
      ]
     },
     "metadata": {
      "needs_background": "light"
     },
     "output_type": "display_data"
    }
   ],
   "source": [
    "\n",
    "ax = sns.jointplot(x=\"User_rating\", y=\"num_page\", data = df, color = 'darkcyan',ylim = (0,1000))\n",
    "ax.set_axis_labels(\"םיגרדמה ןויצ\", \"םידומע תומכ\")"
   ]
  },
  {
   "cell_type": "code",
   "execution_count": 34,
   "id": "97794811",
   "metadata": {},
   "outputs": [
    {
     "name": "stderr",
     "output_type": "stream",
     "text": [
      "/Users/danielsh/opt/anaconda3/lib/python3.8/site-packages/seaborn/_decorators.py:36: FutureWarning: Pass the following variables as keyword args: x, y. From version 0.12, the only valid positional argument will be `data`, and passing other arguments without an explicit keyword will result in an error or misinterpretation.\n",
      "  warnings.warn(\n"
     ]
    },
    {
     "data": {
      "text/plain": [
       "<AxesSubplot:xlabel='Genre_1'>"
      ]
     },
     "execution_count": 34,
     "metadata": {},
     "output_type": "execute_result"
    },
    {
     "data": {
      "image/png": "[encoded data removed]",
      "text/plain": [
       "<Figure size 720x576 with 1 Axes>"
      ]
     },
     "metadata": {},
     "output_type": "display_data"
    }
   ],
   "source": [
    "plt.figure(figsize=(10,8))\n",
    "sns.barplot(df.Genre_1.value_counts().head(20),df.Genre_1.value_counts().head(20).index,palette = 'rocket')"
   ]
  },
  {
   "cell_type": "markdown",
   "id": "5402c9fb",
   "metadata": {},
   "source": [
    "<font size=\"5\">Machine Learning: User Rating to Number of Pages #</font>\n"
   ]
  },
  {
   "cell_type": "code",
   "execution_count": 15,
   "id": "25c737ec",
   "metadata": {},
   "outputs": [
    {
     "name": "stdout",
     "output_type": "stream",
     "text": [
      "<class 'pandas.core.frame.DataFrame'>\n",
      "Int64Index: 2562 entries, 0 to 6982\n",
      "Data columns (total 16 columns):\n",
      " #   Column       Non-Null Count  Dtype  \n",
      "---  ------       --------------  -----  \n",
      " 0   Unnamed: 0   2562 non-null   int64  \n",
      " 1   Name         2562 non-null   object \n",
      " 2   Author       2562 non-null   object \n",
      " 3   num_page     2562 non-null   int64  \n",
      " 4   Language     2562 non-null   object \n",
      " 5   User_rating  2562 non-null   float64\n",
      " 6   rating_num   2562 non-null   int64  \n",
      " 7   Reviews      2562 non-null   int64  \n",
      " 8   Genre_1      2562 non-null   object \n",
      " 9   G_1_id       2562 non-null   int64  \n",
      " 10  fiction      2562 non-null   int64  \n",
      " 11  non_fiction  2562 non-null   int64  \n",
      " 12  Genre_2      2562 non-null   object \n",
      " 13  Genre_3      2562 non-null   object \n",
      " 14  Year         2562 non-null   int64  \n",
      " 15  Publisher    2562 non-null   object \n",
      "dtypes: float64(1), int64(8), object(7)\n",
      "memory usage: 340.3+ KB\n"
     ]
    },
    {
     "data": {
      "image/png": "[encoded data removed]",
      "text/plain": [
       "<Figure size 432x288 with 1 Axes>"
      ]
     },
     "metadata": {
      "needs_background": "light"
     },
     "output_type": "display_data"
    }
   ],
   "source": [
    "df = pd.read_csv(\"df_1.csv\")\n",
    "fixed_df = df.drop(df[ df['rating_num'] <= 50000 ].index)\n",
    "fixed_df.drop(fixed_df[ fixed_df['Reviews'] <= 2500 ].index, inplace =True)\n",
    "fixed_df.drop(fixed_df[ fixed_df['num_page'] <= 100 ].index,inplace=True)\n",
    "fixed_df.info()\n",
    "\n",
    "# data preprocessing\n",
    "df_shape =df[{'num_page','User_rating'}]\n",
    "X = df_shape.iloc[:, :-1].values  #independent variable array\n",
    "y = df_shape.iloc[:,1].values   #dependent variable vector\n",
    " \n",
    "# splitting the dataset\n",
    "from sklearn.model_selection import train_test_split\n",
    "X_train, X_test, y_train, y_test = train_test_split(X,y,test_size=1/3,random_state=0)\n",
    " \n",
    "# fitting the regression model\n",
    "from sklearn.linear_model import LinearRegression\n",
    "regressor = LinearRegression()\n",
    "regressor.fit(X_train,y_train) #actually produces the linear eqn for the data\n",
    " \n",
    "# predicting the test set results\n",
    "y_pred = regressor.predict(X_test) \n",
    " \n",
    "# visualizing the results\n",
    "#plot for the TRAIN\n",
    "  \n",
    "plt.scatter(X_train, y_train, color='red') # plotting the observation line\n",
    "plt.plot(X_train, regressor.predict(X_train), color='blue') # plotting the regression line\n",
    "plt.title(\"num_page vs User Rating (Training set)\") # stating the title of the graph\n",
    "  \n",
    "plt.xlabel(\"User Raiting\") # adding the name of x-axis\n",
    "plt.ylabel(\"num_page\") # adding the name of y-axis\n",
    "plt.show() # specifies end of graph\n",
    " "
   ]
  },
  {
   "cell_type": "markdown",
   "id": "0bd30b76",
   "metadata": {},
   "source": [
    "<font size=\"5\">Machine Learning: Trying to predict User Rating</font>"
   ]
  },
  {
   "cell_type": "code",
   "execution_count": 2,
   "id": "40ddb370",
   "metadata": {},
   "outputs": [],
   "source": [
    "df3 = pd.read_csv(\"df.csv\")"
   ]
  },
  {
   "cell_type": "code",
   "execution_count": 3,
   "id": "57160ca2",
   "metadata": {},
   "outputs": [],
   "source": [
    "df2 = df3.drop(df3.index[df3['Reviews'] <= 5000])"
   ]
  },
  {
   "cell_type": "code",
   "execution_count": 4,
   "id": "7c6f2a92",
   "metadata": {},
   "outputs": [],
   "source": [
    "df2 = df2.drop(df2.index[df2['rating_num'] <= 50000])"
   ]
  },
  {
   "cell_type": "code",
   "execution_count": 5,
   "id": "72e0ae25",
   "metadata": {},
   "outputs": [],
   "source": [
    "le = preprocessing.LabelEncoder()\n",
    "df2['Name'] = le.fit_transform(df2['Name'])"
   ]
  },
  {
   "cell_type": "code",
   "execution_count": 6,
   "id": "be878ff2",
   "metadata": {},
   "outputs": [],
   "source": [
    "df2['Author'] = le.fit_transform(df2['Author'])"
   ]
  },
  {
   "cell_type": "code",
   "execution_count": 7,
   "id": "21d498e9",
   "metadata": {},
   "outputs": [],
   "source": [
    "t = df2"
   ]
  },
  {
   "cell_type": "code",
   "execution_count": 8,
   "id": "0a15bb76",
   "metadata": {},
   "outputs": [],
   "source": [
    "t = t.drop(['G_1_id','Unnamed: 0','Language','Year','Publisher'], axis = 1)"
   ]
  },
  {
   "cell_type": "code",
   "execution_count": 9,
   "id": "288d44e4",
   "metadata": {},
   "outputs": [
    {
     "name": "stdout",
     "output_type": "stream",
     "text": [
      "<class 'pandas.core.frame.DataFrame'>\n",
      "Int64Index: 1843 entries, 0 to 6982\n",
      "Data columns (total 11 columns):\n",
      " #   Column       Non-Null Count  Dtype  \n",
      "---  ------       --------------  -----  \n",
      " 0   Name         1843 non-null   int32  \n",
      " 1   Author       1843 non-null   int32  \n",
      " 2   num_page     1843 non-null   int64  \n",
      " 3   User_rating  1843 non-null   float64\n",
      " 4   rating_num   1843 non-null   int64  \n",
      " 5   Reviews      1843 non-null   int64  \n",
      " 6   Genre_1      1843 non-null   object \n",
      " 7   fiction      1843 non-null   int64  \n",
      " 8   non_fiction  1843 non-null   int64  \n",
      " 9   Genre_2      1843 non-null   object \n",
      " 10  Genre_3      1843 non-null   object \n",
      "dtypes: float64(1), int32(2), int64(5), object(3)\n",
      "memory usage: 158.4+ KB\n"
     ]
    }
   ],
   "source": [
    "t.info()"
   ]
  },
  {
   "cell_type": "code",
   "execution_count": 10,
   "id": "58c7941b",
   "metadata": {},
   "outputs": [],
   "source": [
    "encode_gen = pd.get_dummies(t['Genre_1'])\n",
    "t = pd.concat([t, encode_gen], axis = 1)\n"
   ]
  },
  {
   "cell_type": "code",
   "execution_count": 11,
   "id": "e408131d",
   "metadata": {},
   "outputs": [],
   "source": [
    "encode_lang = pd.get_dummies(df2['Language'])\n",
    "t = pd.concat([t, encode_lang], axis = 1)"
   ]
  },
  {
   "cell_type": "code",
   "execution_count": 12,
   "id": "1b840678",
   "metadata": {},
   "outputs": [],
   "source": [
    "t = t.drop(['Genre_1','Genre_2','Genre_3'], axis = 1)"
   ]
  },
  {
   "cell_type": "code",
   "execution_count": 13,
   "id": "48c3eea2",
   "metadata": {},
   "outputs": [
    {
     "name": "stdout",
     "output_type": "stream",
     "text": [
      "<class 'pandas.core.frame.DataFrame'>\n",
      "Int64Index: 1843 entries, 0 to 6982\n",
      "Data columns (total 54 columns):\n",
      " #   Column             Non-Null Count  Dtype  \n",
      "---  ------             --------------  -----  \n",
      " 0   Name               1843 non-null   int32  \n",
      " 1   Author             1843 non-null   int32  \n",
      " 2   num_page           1843 non-null   int64  \n",
      " 3   User_rating        1843 non-null   float64\n",
      " 4   rating_num         1843 non-null   int64  \n",
      " 5   Reviews            1843 non-null   int64  \n",
      " 6   fiction            1843 non-null   int64  \n",
      " 7   non_fiction        1843 non-null   int64  \n",
      " 8   Academic           1843 non-null   uint8  \n",
      " 9   Autobiography      1843 non-null   uint8  \n",
      " 10  Biography          1843 non-null   uint8  \n",
      " 11  Business           1843 non-null   uint8  \n",
      " 12  Childrens          1843 non-null   uint8  \n",
      " 13  Christian          1843 non-null   uint8  \n",
      " 14  Christian Fiction  1843 non-null   uint8  \n",
      " 15  Classics           1843 non-null   uint8  \n",
      " 16  Contemporary       1843 non-null   uint8  \n",
      " 17  Crime              1843 non-null   uint8  \n",
      " 18  Dark               1843 non-null   uint8  \n",
      " 19  Economics          1843 non-null   uint8  \n",
      " 20  Fantasy            1843 non-null   uint8  \n",
      " 21  Fiction            1843 non-null   uint8  \n",
      " 22  Historical         1843 non-null   uint8  \n",
      " 23  History            1843 non-null   uint8  \n",
      " 24  Horror             1843 non-null   uint8  \n",
      " 25  Humor              1843 non-null   uint8  \n",
      " 26  Language           1843 non-null   uint8  \n",
      " 27  Mystery            1843 non-null   uint8  \n",
      " 28  New Adult          1843 non-null   uint8  \n",
      " 29  Nonfiction         1843 non-null   uint8  \n",
      " 30  Novels             1843 non-null   uint8  \n",
      " 31  Paranormal         1843 non-null   uint8  \n",
      " 32  Philosophy         1843 non-null   uint8  \n",
      " 33  Plays              1843 non-null   uint8  \n",
      " 34  Poetry             1843 non-null   uint8  \n",
      " 35  Psychology         1843 non-null   uint8  \n",
      " 36  Realistic Fiction  1843 non-null   uint8  \n",
      " 37  Religion           1843 non-null   uint8  \n",
      " 38  Romance            1843 non-null   uint8  \n",
      " 39  Science            1843 non-null   uint8  \n",
      " 40  Science Fiction    1843 non-null   uint8  \n",
      " 41  Self Help          1843 non-null   uint8  \n",
      " 42  Sequential Art     1843 non-null   uint8  \n",
      " 43  Short Stories      1843 non-null   uint8  \n",
      " 44  Spirituality       1843 non-null   uint8  \n",
      " 45  Thriller           1843 non-null   uint8  \n",
      " 46  Travel             1843 non-null   uint8  \n",
      " 47  Womens Fiction     1843 non-null   uint8  \n",
      " 48  Young Adult        1843 non-null   uint8  \n",
      " 49  Arabic             1843 non-null   uint8  \n",
      " 50  English            1843 non-null   uint8  \n",
      " 51  French             1843 non-null   uint8  \n",
      " 52  German             1843 non-null   uint8  \n",
      " 53  Spanish            1843 non-null   uint8  \n",
      "dtypes: float64(1), int32(2), int64(5), uint8(46)\n",
      "memory usage: 198.0 KB\n"
     ]
    }
   ],
   "source": [
    "t.info()"
   ]
  },
  {
   "cell_type": "code",
   "execution_count": 14,
   "id": "c3dbfff3",
   "metadata": {},
   "outputs": [],
   "source": [
    "X = t.drop(['User_rating'], axis = 1)\n",
    "y = t['User_rating']"
   ]
  },
  {
   "cell_type": "code",
   "execution_count": 15,
   "id": "8a5a7e54",
   "metadata": {},
   "outputs": [],
   "source": [
    "X_train, X_test, y_train, y_test = train_test_split(X, y, test_size = 0.20, random_state = 6)"
   ]
  },
  {
   "cell_type": "code",
   "execution_count": 16,
   "id": "0c116815",
   "metadata": {},
   "outputs": [
    {
     "data": {
      "text/plain": [
       "LinearRegression()"
      ]
     },
     "execution_count": 16,
     "metadata": {},
     "output_type": "execute_result"
    }
   ],
   "source": [
    "lr = LinearRegression()\n",
    "lr.fit(X_train, y_train)"
   ]
  },
  {
   "cell_type": "code",
   "execution_count": 17,
   "id": "f3662895",
   "metadata": {},
   "outputs": [],
   "source": [
    "predictions = lr.predict(X_test)"
   ]
  },
  {
   "cell_type": "code",
   "execution_count": 18,
   "id": "3f7213ca",
   "metadata": {},
   "outputs": [
    {
     "data": {
      "text/html": [
       "<div>\n",
       "<style scoped>\n",
       "    .dataframe tbody tr th:only-of-type {\n",
       "        vertical-align: middle;\n",
       "    }\n",
       "\n",
       "    .dataframe tbody tr th {\n",
       "        vertical-align: top;\n",
       "    }\n",
       "\n",
       "    .dataframe thead th {\n",
       "        text-align: right;\n",
       "    }\n",
       "</style>\n",
       "<table border=\"1\" class=\"dataframe\">\n",
       "  <thead>\n",
       "    <tr style=\"text-align: right;\">\n",
       "      <th></th>\n",
       "      <th>Actual</th>\n",
       "      <th>Predicted</th>\n",
       "    </tr>\n",
       "  </thead>\n",
       "  <tbody>\n",
       "    <tr>\n",
       "      <th>0</th>\n",
       "      <td>3.76</td>\n",
       "      <td>3.917365</td>\n",
       "    </tr>\n",
       "    <tr>\n",
       "      <th>1</th>\n",
       "      <td>3.80</td>\n",
       "      <td>3.971959</td>\n",
       "    </tr>\n",
       "    <tr>\n",
       "      <th>2</th>\n",
       "      <td>4.00</td>\n",
       "      <td>3.956582</td>\n",
       "    </tr>\n",
       "    <tr>\n",
       "      <th>3</th>\n",
       "      <td>4.32</td>\n",
       "      <td>3.911813</td>\n",
       "    </tr>\n",
       "    <tr>\n",
       "      <th>4</th>\n",
       "      <td>4.23</td>\n",
       "      <td>4.147532</td>\n",
       "    </tr>\n",
       "    <tr>\n",
       "      <th>5</th>\n",
       "      <td>4.33</td>\n",
       "      <td>4.043689</td>\n",
       "    </tr>\n",
       "    <tr>\n",
       "      <th>6</th>\n",
       "      <td>3.71</td>\n",
       "      <td>3.936955</td>\n",
       "    </tr>\n",
       "    <tr>\n",
       "      <th>7</th>\n",
       "      <td>4.05</td>\n",
       "      <td>3.985333</td>\n",
       "    </tr>\n",
       "    <tr>\n",
       "      <th>8</th>\n",
       "      <td>3.76</td>\n",
       "      <td>4.038871</td>\n",
       "    </tr>\n",
       "    <tr>\n",
       "      <th>9</th>\n",
       "      <td>4.11</td>\n",
       "      <td>3.952996</td>\n",
       "    </tr>\n",
       "    <tr>\n",
       "      <th>10</th>\n",
       "      <td>3.69</td>\n",
       "      <td>3.923363</td>\n",
       "    </tr>\n",
       "    <tr>\n",
       "      <th>11</th>\n",
       "      <td>4.05</td>\n",
       "      <td>4.135570</td>\n",
       "    </tr>\n",
       "    <tr>\n",
       "      <th>12</th>\n",
       "      <td>4.32</td>\n",
       "      <td>3.942050</td>\n",
       "    </tr>\n",
       "    <tr>\n",
       "      <th>13</th>\n",
       "      <td>4.23</td>\n",
       "      <td>4.066924</td>\n",
       "    </tr>\n",
       "    <tr>\n",
       "      <th>14</th>\n",
       "      <td>4.13</td>\n",
       "      <td>4.086423</td>\n",
       "    </tr>\n",
       "    <tr>\n",
       "      <th>15</th>\n",
       "      <td>3.95</td>\n",
       "      <td>4.162232</td>\n",
       "    </tr>\n",
       "    <tr>\n",
       "      <th>16</th>\n",
       "      <td>3.91</td>\n",
       "      <td>4.064212</td>\n",
       "    </tr>\n",
       "    <tr>\n",
       "      <th>17</th>\n",
       "      <td>3.83</td>\n",
       "      <td>3.914912</td>\n",
       "    </tr>\n",
       "    <tr>\n",
       "      <th>18</th>\n",
       "      <td>4.06</td>\n",
       "      <td>4.042803</td>\n",
       "    </tr>\n",
       "    <tr>\n",
       "      <th>19</th>\n",
       "      <td>4.00</td>\n",
       "      <td>3.932692</td>\n",
       "    </tr>\n",
       "    <tr>\n",
       "      <th>20</th>\n",
       "      <td>4.02</td>\n",
       "      <td>3.898476</td>\n",
       "    </tr>\n",
       "    <tr>\n",
       "      <th>21</th>\n",
       "      <td>4.07</td>\n",
       "      <td>3.918074</td>\n",
       "    </tr>\n",
       "    <tr>\n",
       "      <th>22</th>\n",
       "      <td>4.00</td>\n",
       "      <td>4.055223</td>\n",
       "    </tr>\n",
       "    <tr>\n",
       "      <th>23</th>\n",
       "      <td>4.08</td>\n",
       "      <td>4.068814</td>\n",
       "    </tr>\n",
       "    <tr>\n",
       "      <th>24</th>\n",
       "      <td>3.53</td>\n",
       "      <td>4.127988</td>\n",
       "    </tr>\n",
       "  </tbody>\n",
       "</table>\n",
       "</div>"
      ],
      "text/plain": [
       "    Actual  Predicted\n",
       "0     3.76   3.917365\n",
       "1     3.80   3.971959\n",
       "2     4.00   3.956582\n",
       "3     4.32   3.911813\n",
       "4     4.23   4.147532\n",
       "5     4.33   4.043689\n",
       "6     3.71   3.936955\n",
       "7     4.05   3.985333\n",
       "8     3.76   4.038871\n",
       "9     4.11   3.952996\n",
       "10    3.69   3.923363\n",
       "11    4.05   4.135570\n",
       "12    4.32   3.942050\n",
       "13    4.23   4.066924\n",
       "14    4.13   4.086423\n",
       "15    3.95   4.162232\n",
       "16    3.91   4.064212\n",
       "17    3.83   3.914912\n",
       "18    4.06   4.042803\n",
       "19    4.00   3.932692\n",
       "20    4.02   3.898476\n",
       "21    4.07   3.918074\n",
       "22    4.00   4.055223\n",
       "23    4.08   4.068814\n",
       "24    3.53   4.127988"
      ]
     },
     "execution_count": 18,
     "metadata": {},
     "output_type": "execute_result"
    }
   ],
   "source": [
    "pred = pd.DataFrame({'Actual': y_test.tolist(), 'Predicted': predictions.tolist()}).head(25)\n",
    "pred"
   ]
  },
  {
   "cell_type": "code",
   "execution_count": 19,
   "id": "8be0025b",
   "metadata": {},
   "outputs": [
    {
     "name": "stdout",
     "output_type": "stream",
     "text": [
      "MAE: 0.15151835939921227\n",
      "MSE: 0.03564919620637557\n",
      "RMSE: 0.18880994731839626\n"
     ]
    }
   ],
   "source": [
    "print('MAE:', metrics.mean_absolute_error(y_test, predictions))\n",
    "print('MSE:', metrics.mean_squared_error(y_test, predictions))\n",
    "print('RMSE:', np.sqrt(metrics.mean_squared_error(y_test, predictions)))"
   ]
  },
  {
   "cell_type": "code",
   "execution_count": 20,
   "id": "df3a30e9",
   "metadata": {},
   "outputs": [
    {
     "data": {
      "text/plain": [
       "<AxesSubplot:>"
      ]
     },
     "execution_count": 20,
     "metadata": {},
     "output_type": "execute_result"
    },
    {
     "data": {
      "image/png": "[encoded data removed]",
      "text/plain": [
       "<Figure size 936x504 with 1 Axes>"
      ]
     },
     "metadata": {
      "needs_background": "light"
     },
     "output_type": "display_data"
    }
   ],
   "source": [
    "pred.plot(kind='bar', figsize=(13, 7))"
   ]
  },
  {
   "cell_type": "code",
   "execution_count": 21,
   "id": "69de1ced",
   "metadata": {},
   "outputs": [
    {
     "data": {
      "text/plain": [
       "[<matplotlib.lines.Line2D at 0x2c5a2714bb0>]"
      ]
     },
     "execution_count": 21,
     "metadata": {},
     "output_type": "execute_result"
    },
    {
     "data": {
      "image/png": "[encoded data removed]",
      "text/plain": [
       "<Figure size 432x288 with 1 Axes>"
      ]
     },
     "metadata": {
      "needs_background": "light"
     },
     "output_type": "display_data"
    }
   ],
   "source": [
    "ax = sns.scatterplot(x=y_test, y=predictions,color='black')\n",
    "ax.plot(y_train, y_train, 'green')"
   ]
  },
  {
   "cell_type": "markdown",
   "id": "37b41b1f",
   "metadata": {},
   "source": [
    "<font size=\"3\">Machine Learning: Recommendation Engine.</font>\n",
    "\n",
    "\n",
    "<font size=\"2\">credit:https://www.kaggle.com/snanilim/book-recommendation-engine </font>"
   ]
  },
  {
   "cell_type": "code",
   "execution_count": 326,
   "id": "eab8acfb",
   "metadata": {},
   "outputs": [
    {
     "name": "stdout",
     "output_type": "stream",
     "text": [
      "<class 'pandas.core.frame.DataFrame'>\n",
      "RangeIndex: 6999 entries, 0 to 6998\n",
      "Data columns (total 16 columns):\n",
      " #   Column       Non-Null Count  Dtype  \n",
      "---  ------       --------------  -----  \n",
      " 0   Unnamed: 0   6999 non-null   int64  \n",
      " 1   Name         6999 non-null   object \n",
      " 2   Author       6999 non-null   object \n",
      " 3   num_page     6999 non-null   int64  \n",
      " 4   Language     6999 non-null   object \n",
      " 5   User_rating  6999 non-null   float64\n",
      " 6   rating_num   6999 non-null   int64  \n",
      " 7   Reviews      6999 non-null   int64  \n",
      " 8   Genre_1      6999 non-null   object \n",
      " 9   G_1_id       6999 non-null   int64  \n",
      " 10  fiction      6999 non-null   int64  \n",
      " 11  non_fiction  6999 non-null   int64  \n",
      " 12  Genre_2      6999 non-null   object \n",
      " 13  Genre_3      6999 non-null   object \n",
      " 14  Year         6999 non-null   int64  \n",
      " 15  Publisher    6999 non-null   object \n",
      "dtypes: float64(1), int64(8), object(7)\n",
      "memory usage: 875.0+ KB\n"
     ]
    }
   ],
   "source": [
    "df3.info()"
   ]
  },
  {
   "cell_type": "code",
   "execution_count": 4,
   "id": "22f9469d",
   "metadata": {},
   "outputs": [],
   "source": [
    "df1 = df3.drop(df3.index[df3['Reviews'] <= 3000])"
   ]
  },
  {
   "cell_type": "code",
   "execution_count": 5,
   "id": "35c37c97",
   "metadata": {},
   "outputs": [],
   "source": [
    "df1 = df1.drop(df1.index[df1['rating_num'] <= 30000])"
   ]
  },
  {
   "cell_type": "code",
   "execution_count": 9,
   "id": "a54b1e01",
   "metadata": {},
   "outputs": [],
   "source": [
    "df1.loc[ (df1['User_rating'] >= 0) & (df1['User_rating'] <= 1), 'rating_between'] = \"between_0_to_1\"\n",
    "df1.loc[ (df1['User_rating'] > 1) & (df1['User_rating'] <= 2), 'rating_between'] = \"between_1_to_2\"\n",
    "df1.loc[ (df1['User_rating'] > 2) & (df1['User_rating'] <= 3), 'rating_between'] = \"between_2_to_3\"\n",
    "df1.loc[ (df1['User_rating'] > 3) & (df1['User_rating'] <= 4), 'rating_between'] = \"between_3_to_4\"\n",
    "df1.loc[ (df1['User_rating'] > 4) & (df1['User_rating'] <= 5), 'rating_between'] = \"between_4_to_5\""
   ]
  },
  {
   "cell_type": "code",
   "execution_count": 10,
   "id": "1d5fd5c0",
   "metadata": {},
   "outputs": [],
   "source": [
    "rating_between_df = df1['rating_between'].str.get_dummies(sep=\",\")\n"
   ]
  },
  {
   "cell_type": "code",
   "execution_count": 11,
   "id": "6d22e915",
   "metadata": {},
   "outputs": [],
   "source": [
    "lang_df = df1['Language'].str.get_dummies(sep=\",\")"
   ]
  },
  {
   "cell_type": "code",
   "execution_count": 12,
   "id": "e6ab62c4",
   "metadata": {},
   "outputs": [],
   "source": [
    "encode_gen1 = df1['Genre_1'].str.get_dummies(sep=\",\")\n",
    "encode_gen2 = df1['Genre_2'].str.get_dummies(sep=\",\")"
   ]
  },
  {
   "cell_type": "code",
   "execution_count": 13,
   "id": "85aebacb",
   "metadata": {},
   "outputs": [
    {
     "data": {
      "text/html": [
       "<div>\n",
       "<style scoped>\n",
       "    .dataframe tbody tr th:only-of-type {\n",
       "        vertical-align: middle;\n",
       "    }\n",
       "\n",
       "    .dataframe tbody tr th {\n",
       "        vertical-align: top;\n",
       "    }\n",
       "\n",
       "    .dataframe thead th {\n",
       "        text-align: right;\n",
       "    }\n",
       "</style>\n",
       "<table border=\"1\" class=\"dataframe\">\n",
       "  <thead>\n",
       "    <tr style=\"text-align: right;\">\n",
       "      <th></th>\n",
       "      <th>between_3_to_4</th>\n",
       "      <th>between_4_to_5</th>\n",
       "      <th>Arabic</th>\n",
       "      <th>English</th>\n",
       "      <th>French</th>\n",
       "      <th>German</th>\n",
       "      <th>Norwegian</th>\n",
       "      <th>Polish</th>\n",
       "      <th>Scots</th>\n",
       "      <th>Spanish</th>\n",
       "      <th>...</th>\n",
       "      <th>Urban Fantasy</th>\n",
       "      <th>Vampires</th>\n",
       "      <th>War</th>\n",
       "      <th>Westerns</th>\n",
       "      <th>Womens Fiction</th>\n",
       "      <th>Writing</th>\n",
       "      <th>Young Adult</th>\n",
       "      <th>Zombies</th>\n",
       "      <th>User_rating</th>\n",
       "      <th>rating_num</th>\n",
       "    </tr>\n",
       "  </thead>\n",
       "  <tbody>\n",
       "    <tr>\n",
       "      <th>0</th>\n",
       "      <td>1</td>\n",
       "      <td>0</td>\n",
       "      <td>0</td>\n",
       "      <td>1</td>\n",
       "      <td>0</td>\n",
       "      <td>0</td>\n",
       "      <td>0</td>\n",
       "      <td>0</td>\n",
       "      <td>0</td>\n",
       "      <td>0</td>\n",
       "      <td>...</td>\n",
       "      <td>0</td>\n",
       "      <td>0</td>\n",
       "      <td>0</td>\n",
       "      <td>0</td>\n",
       "      <td>0</td>\n",
       "      <td>0</td>\n",
       "      <td>0</td>\n",
       "      <td>0</td>\n",
       "      <td>3.81</td>\n",
       "      <td>283881</td>\n",
       "    </tr>\n",
       "    <tr>\n",
       "      <th>1</th>\n",
       "      <td>0</td>\n",
       "      <td>1</td>\n",
       "      <td>0</td>\n",
       "      <td>1</td>\n",
       "      <td>0</td>\n",
       "      <td>0</td>\n",
       "      <td>0</td>\n",
       "      <td>0</td>\n",
       "      <td>0</td>\n",
       "      <td>0</td>\n",
       "      <td>...</td>\n",
       "      <td>0</td>\n",
       "      <td>0</td>\n",
       "      <td>0</td>\n",
       "      <td>0</td>\n",
       "      <td>0</td>\n",
       "      <td>0</td>\n",
       "      <td>0</td>\n",
       "      <td>0</td>\n",
       "      <td>4.20</td>\n",
       "      <td>287556</td>\n",
       "    </tr>\n",
       "    <tr>\n",
       "      <th>2</th>\n",
       "      <td>1</td>\n",
       "      <td>0</td>\n",
       "      <td>0</td>\n",
       "      <td>1</td>\n",
       "      <td>0</td>\n",
       "      <td>0</td>\n",
       "      <td>0</td>\n",
       "      <td>0</td>\n",
       "      <td>0</td>\n",
       "      <td>0</td>\n",
       "      <td>...</td>\n",
       "      <td>0</td>\n",
       "      <td>0</td>\n",
       "      <td>0</td>\n",
       "      <td>0</td>\n",
       "      <td>0</td>\n",
       "      <td>0</td>\n",
       "      <td>0</td>\n",
       "      <td>0</td>\n",
       "      <td>3.90</td>\n",
       "      <td>285887</td>\n",
       "    </tr>\n",
       "    <tr>\n",
       "      <th>3</th>\n",
       "      <td>0</td>\n",
       "      <td>1</td>\n",
       "      <td>0</td>\n",
       "      <td>1</td>\n",
       "      <td>0</td>\n",
       "      <td>0</td>\n",
       "      <td>0</td>\n",
       "      <td>0</td>\n",
       "      <td>0</td>\n",
       "      <td>0</td>\n",
       "      <td>...</td>\n",
       "      <td>0</td>\n",
       "      <td>0</td>\n",
       "      <td>0</td>\n",
       "      <td>0</td>\n",
       "      <td>0</td>\n",
       "      <td>0</td>\n",
       "      <td>0</td>\n",
       "      <td>0</td>\n",
       "      <td>4.11</td>\n",
       "      <td>175314</td>\n",
       "    </tr>\n",
       "    <tr>\n",
       "      <th>5</th>\n",
       "      <td>1</td>\n",
       "      <td>0</td>\n",
       "      <td>0</td>\n",
       "      <td>1</td>\n",
       "      <td>0</td>\n",
       "      <td>0</td>\n",
       "      <td>0</td>\n",
       "      <td>0</td>\n",
       "      <td>0</td>\n",
       "      <td>0</td>\n",
       "      <td>...</td>\n",
       "      <td>0</td>\n",
       "      <td>0</td>\n",
       "      <td>0</td>\n",
       "      <td>0</td>\n",
       "      <td>0</td>\n",
       "      <td>0</td>\n",
       "      <td>0</td>\n",
       "      <td>0</td>\n",
       "      <td>3.91</td>\n",
       "      <td>238212</td>\n",
       "    </tr>\n",
       "  </tbody>\n",
       "</table>\n",
       "<p>5 rows × 148 columns</p>\n",
       "</div>"
      ],
      "text/plain": [
       "   between_3_to_4  between_4_to_5  Arabic  English  French  German  Norwegian  \\\n",
       "0               1               0       0        1       0       0          0   \n",
       "1               0               1       0        1       0       0          0   \n",
       "2               1               0       0        1       0       0          0   \n",
       "3               0               1       0        1       0       0          0   \n",
       "5               1               0       0        1       0       0          0   \n",
       "\n",
       "   Polish  Scots  Spanish  ...  Urban Fantasy  Vampires  War  Westerns  \\\n",
       "0       0      0        0  ...              0         0    0         0   \n",
       "1       0      0        0  ...              0         0    0         0   \n",
       "2       0      0        0  ...              0         0    0         0   \n",
       "3       0      0        0  ...              0         0    0         0   \n",
       "5       0      0        0  ...              0         0    0         0   \n",
       "\n",
       "   Womens Fiction  Writing  Young Adult  Zombies  User_rating  rating_num  \n",
       "0               0        0            0        0         3.81      283881  \n",
       "1               0        0            0        0         4.20      287556  \n",
       "2               0        0            0        0         3.90      285887  \n",
       "3               0        0            0        0         4.11      175314  \n",
       "5               0        0            0        0         3.91      238212  \n",
       "\n",
       "[5 rows x 148 columns]"
      ]
     },
     "execution_count": 13,
     "metadata": {},
     "output_type": "execute_result"
    }
   ],
   "source": [
    "engine_features = pd.concat([rating_between_df, lang_df, encode_gen1 ,encode_gen2, df1['User_rating'], df1['rating_num']], axis=1)\n",
    "engine_features.head()"
   ]
  },
  {
   "cell_type": "code",
   "execution_count": 14,
   "id": "c5a96111",
   "metadata": {},
   "outputs": [],
   "source": [
    "min_max_scaler = MinMaxScaler()\n",
    "engine_features = min_max_scaler.fit_transform(engine_features)"
   ]
  },
  {
   "cell_type": "code",
   "execution_count": 15,
   "id": "1054a4b8",
   "metadata": {},
   "outputs": [],
   "source": [
    "engine_model = neighbors.NearestNeighbors(n_neighbors=5, algorithm='ball_tree')"
   ]
  },
  {
   "cell_type": "code",
   "execution_count": 16,
   "id": "fb73b172",
   "metadata": {},
   "outputs": [
    {
     "data": {
      "text/plain": [
       "NearestNeighbors(algorithm='ball_tree')"
      ]
     },
     "execution_count": 16,
     "metadata": {},
     "output_type": "execute_result"
    }
   ],
   "source": [
    "engine_model.fit(engine_features)"
   ]
  },
  {
   "cell_type": "code",
   "execution_count": 17,
   "id": "ebd1f94a",
   "metadata": {},
   "outputs": [],
   "source": [
    "dist, idlist = engine_model.kneighbors(engine_features)"
   ]
  },
  {
   "cell_type": "code",
   "execution_count": 18,
   "id": "82fb3351",
   "metadata": {},
   "outputs": [],
   "source": [
    "def book_recommendation_engine(book_name):\n",
    "    book_list_name = []\n",
    "    book_id = df1[df1['Name'] == book_name].index\n",
    "    book_id = book_id[0]\n",
    "#     print('book_id', book_id)\n",
    "    for newid in idlist[book_id]:\n",
    "#         print(newid)\n",
    "        book_list_name.append(df1.loc[newid].Name)\n",
    "#         print(new_data.loc[newid].title)\n",
    "    return book_list_name"
   ]
  },
  {
   "cell_type": "code",
   "execution_count": 19,
   "id": "a8fa6b47",
   "metadata": {},
   "outputs": [
    {
     "data": {
      "text/plain": [
       "0                            A Farewell to Arms\n",
       "1                             A Little Princess\n",
       "2                                   Neuromancer\n",
       "3                                    The Rescue\n",
       "5                          The Andromeda Strain\n",
       "8                                  Wonderstruck\n",
       "9                             An Anonymous Girl\n",
       "12                                   The Cellar\n",
       "14                             The Hunger Games\n",
       "15    Harry Potter and the Order of the Phoenix\n",
       "16                        To Kill a Mockingbird\n",
       "17                          Pride and Prejudice\n",
       "18                                     Twilight\n",
       "19                               The Book Thief\n",
       "20                                  Animal Farm\n",
       "21                     The Chronicles of Narnia\n",
       "23                       The Fault in Our Stars\n",
       "24                           Gone with the Wind\n",
       "25         The Hitchhiker's Guide to the Galaxy\n",
       "26                              The Giving Tree\n",
       "Name: Name, dtype: object"
      ]
     },
     "execution_count": 19,
     "metadata": {},
     "output_type": "execute_result"
    }
   ],
   "source": [
    "df1[\"Name\"].head(20)"
   ]
  },
  {
   "cell_type": "code",
   "execution_count": 26,
   "id": "86e4cb0d",
   "metadata": {},
   "outputs": [
    {
     "data": {
      "text/plain": [
       "['The Fault in Our Stars',\n",
       " 'Water for Elephants',\n",
       " 'Life of Pi',\n",
       " 'The Chronicles of Narnia',\n",
       " 'Dracula']"
      ]
     },
     "execution_count": 26,
     "metadata": {},
     "output_type": "execute_result"
    }
   ],
   "source": [
    "book_list_name = book_recommendation_engine('The Fault in Our Stars')\n",
    "book_list_name"
   ]
  }
 ],
 "metadata": {
  "kernelspec": {
   "display_name": "Python 3",
   "language": "python",
   "name": "python3"
  },
  "language_info": {
   "codemirror_mode": {
    "name": "ipython",
    "version": 3
   },
   "file_extension": ".py",
   "mimetype": "text/x-python",
   "name": "python",
   "nbconvert_exporter": "python",
   "pygments_lexer": "ipython3",
   "version": "3.8.8"
  }
 },
 "nbformat": 4,
 "nbformat_minor": 5
}
